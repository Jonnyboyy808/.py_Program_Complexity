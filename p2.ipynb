{
 "cells": [
  {
   "cell_type": "code",
   "execution_count": 1,
   "metadata": {},
   "outputs": [],
   "source": [
    "from subprocess import check_output\n",
    "import subprocess, random, json, matplotlib, os\n",
    "from pandas import Series, DataFrame\n",
    "from matplotlib import pyplot as plt \n",
    "import pandas as pd \n",
    "from time import time\n",
    "%matplotlib inline\n",
    "plt.rcParams.update({'font.size': 16})"
   ]
  },
  {
   "cell_type": "code",
   "execution_count": 2,
   "metadata": {},
   "outputs": [
    {
     "data": {
      "text/plain": [
       "8"
      ]
     },
     "execution_count": 2,
     "metadata": {},
     "output_type": "execute_result"
    }
   ],
   "source": [
    "#q1 How many commits are there in the repo?\n",
    "\n",
    "check_output([\"git\", \"checkout\", \"master\"], cwd=\"repo\")\n",
    "\n",
    "txt = check_output([\"git\", \"log\"], cwd=\"repo\")\n",
    "str_log = str(txt, \"utf-8\")\n",
    "log_list = str_log.split(\"\\n\\n\")\n",
    "\n",
    "entries = 0 \n",
    "for entry in log_list:\n",
    "    if entry.startswith(\"commit\"):\n",
    "        entries +=1 \n",
    "    else:\n",
    "        continue\n",
    "entries"
   ]
  },
  {
   "cell_type": "code",
   "execution_count": 3,
   "metadata": {},
   "outputs": [
    {
     "data": {
      "text/plain": [
       "{'Ada': 3, 'Steve': 3, 'Linus': 2}"
      ]
     },
     "execution_count": 3,
     "metadata": {},
     "output_type": "execute_result"
    }
   ],
   "source": [
    "#q2 How many commits were there by each author?\n",
    "str_log.split(\"Author: \")\n",
    "author_list = str_log.split(\"Author: \")[1:]\n",
    "names = [\"Ada\", \"Steve\", \"Linus\"]\n",
    "dic = {}\n",
    "\n",
    "author_order = []\n",
    "for name in names:\n",
    "    dic[name] = 0\n",
    "    for author in author_list:\n",
    "        if name in author:\n",
    "            author_order.append(name)\n",
    "            dic[name] += 1 \n",
    "        else:\n",
    "            continue            \n",
    "dic"
   ]
  },
  {
   "cell_type": "code",
   "execution_count": 4,
   "metadata": {},
   "outputs": [
    {
     "data": {
      "image/png": "[encoded data removed]",
      "text/plain": [
       "<Figure size 144x216 with 1 Axes>"
      ]
     },
     "metadata": {
      "needs_background": "light"
     },
     "output_type": "display_data"
    }
   ],
   "source": [
    "#q3 How many commits were there for each developer?\n",
    "s = pd.Series(dic, index=dic.keys())\n",
    "ax = s.plot(figsize=(2,3), kind=\"bar\", color = \"0\")\n",
    "ax.set_ylabel(\"Commit Count\")\n",
    "ax.spines['right'].set_visible(False)\n",
    "ax.spines['top'].set_visible(False)\n",
    "None"
   ]
  },
  {
   "cell_type": "code",
   "execution_count": 6,
   "metadata": {},
   "outputs": [],
   "source": [
    "#Creating a list with ever commit version in it \n",
    "git_log = check_output([\"git\", \"log\"], cwd=\"repo\")\n",
    "git_log_str = str(git_log)\n",
    "git_log_str = git_log_str[2:]\n",
    "commits = git_log_str.split(\"\\\\n\")\n",
    "\n",
    "all_lines = []\n",
    "author_lines = []\n",
    "commit_lines = []\n",
    "date_lines = []\n",
    "for line in commits:\n",
    "    if line.startswith(\"Author\"):\n",
    "        author_lines.append(line)\n",
    "        all_lines.append(line)\n",
    "    elif \"commit\" in line:\n",
    "        commit_lines.append(line)\n",
    "        all_lines.append(line)\n",
    "    elif line.startswith(\"Date\"):\n",
    "        date_lines.append(line)\n",
    "        all_lines.append(line)\n",
    "codes = []\n",
    "for line in commit_lines:\n",
    "    codes.append(line[7:])"
   ]
  },
  {
   "cell_type": "code",
   "execution_count": 7,
   "metadata": {},
   "outputs": [
    {
     "data": {
      "text/plain": [
       "[21, 35, 35, 39, 40, 40, 40, 43]"
      ]
     },
     "execution_count": 7,
     "metadata": {},
     "output_type": "execute_result"
    }
   ],
   "source": [
    "#q4 How has the size of wc.py grown over time?\n",
    "size_codes = []\n",
    "for i in codes:\n",
    "    check_output([\"git\", \"checkout\", i], cwd=\"repo\")\n",
    "    size_codes.append(int(str(check_output([\"wc\", \"-l\", \"wc.py\"], cwd = \"repo\"))[2:4]))\n",
    "check_output([\"git\", \"checkout\", \"master\"], cwd=\"repo\")\n",
    "commits_list = size_codes[::-1]\n",
    "commits_list"
   ]
  },
  {
   "cell_type": "code",
   "execution_count": 8,
   "metadata": {
    "scrolled": true
   },
   "outputs": [
    {
     "data": {
      "image/png": "[encoded data removed]",
      "text/plain": [
       "<Figure size 432x216 with 1 Axes>"
      ]
     },
     "metadata": {
      "needs_background": "light"
     },
     "output_type": "display_data"
    }
   ],
   "source": [
    "#q5 Visualize how the size of the code has grown over time\n",
    "s = pd.Series(commits_list, index= range(len(commits_list)))\n",
    "ax = s.plot(figsize=(6,3), kind=\"line\", color = \"red\", ylim=0)\n",
    "ax.set_ylabel(\"Lines\")\n",
    "ax.set_xlabel(\"Commit\")\n",
    "ax.spines['right'].set_visible(False)\n",
    "ax.spines['top'].set_visible(False)\n",
    "\n",
    "plt.savefig(\"sizeovertime.png\")"
   ]
  },
  {
   "cell_type": "code",
   "execution_count": 13,
   "metadata": {},
   "outputs": [],
   "source": [
    "#Dummy test string to run wc.py on\n",
    "test1 = \"\"\"X Y Z\"\"\"\n",
    "\n",
    "test2 = \"\"\"A B \n",
    "A C\n",
    "\"\"\"\n",
    "test3 = \"\"\"A B \n",
    "a c\n",
    "\"\"\""
   ]
  },
  {
   "cell_type": "code",
   "execution_count": 14,
   "metadata": {},
   "outputs": [
    {
     "data": {
      "text/plain": [
       "{'X': 1, 'Y': 1, 'Z': 1}"
      ]
     },
     "execution_count": 14,
     "metadata": {},
     "output_type": "execute_result"
    }
   ],
   "source": [
    "#q6 Running run_wc on test1\n",
    "def run_wc(body, commit=None):\n",
    "    if commit == None:\n",
    "        check_output([\"git\", \"checkout\", \"master\"], cwd=\"repo\")\n",
    "    else:\n",
    "        check_output([\"git\", \"checkout\", str(commit)], cwd = \"repo\")\n",
    "    test = os.path.join(\"repo\", \"test.txt\")\n",
    "    with open(test, \"w\", encoding = \"utf-8\") as file:\n",
    "        file.write(body)\n",
    "    try:\n",
    "        output = check_output(\"python3 wc.py test.txt ALL\", shell = True, cwd = \"repo\",  universal_newlines=True)\n",
    "        json_answer = json.loads(output)\n",
    "        check_output([\"git\", \"checkout\", \"master\"], cwd=\"repo\")\n",
    "        return json_answer \n",
    "    except subprocess.CalledProcessError:\n",
    "        return None\n",
    "\n",
    "run_wc(test1)"
   ]
  },
  {
   "cell_type": "code",
   "execution_count": 15,
   "metadata": {},
   "outputs": [
    {
     "data": {
      "text/plain": [
       "{'A': 2, 'B': 1, 'C': 1}"
      ]
     },
     "execution_count": 15,
     "metadata": {},
     "output_type": "execute_result"
    }
   ],
   "source": [
    "#q7 Running run_wc on test2\n",
    "run_wc(test3)"
   ]
  },
  {
   "cell_type": "code",
   "execution_count": 16,
   "metadata": {},
   "outputs": [],
   "source": [
    "#Function creates takes in a string as an argument and returns a df showing if a commit of wc.py ran matches what's expected for all commits  \n",
    "def test_table(body, expected):\n",
    "    \n",
    "    commits = []\n",
    "    for i in range(len(codes)):\n",
    "        commits.append(codes[i])\n",
    "    author_names = []\n",
    "    for i in range(len(author_list)):\n",
    "        for name in names:\n",
    "            if name in author_list[i]:\n",
    "                author_names.append(name)    \n",
    "        \n",
    "    pass_fail = []\n",
    "    for i in range(len(codes)):\n",
    "        try:\n",
    "            output = run_wc(body,codes[i])\n",
    "        except FileNotFoundError:\n",
    "            print(\"program not installed?\")\n",
    "        except subprocess.CalledProcessError as e:\n",
    "            print(\"program crashed\")\n",
    "            pass_fail.append(\"False\")\n",
    "            continue\n",
    "        if output == expected:\n",
    "            pass_fail.append(\"True\")\n",
    "        else:\n",
    "            pass_fail.append(\"False\")\n",
    "\n",
    "\n",
    "    return DataFrame({\"commit\": commits[::-1], \"author\": author_names[::-1], \"pass\": pass_fail[::-1]})"
   ]
  },
  {
   "cell_type": "code",
   "execution_count": 19,
   "metadata": {},
   "outputs": [
    {
     "data": {
      "text/html": [
       "<div>\n",
       "<style scoped>\n",
       "    .dataframe tbody tr th:only-of-type {\n",
       "        vertical-align: middle;\n",
       "    }\n",
       "\n",
       "    .dataframe tbody tr th {\n",
       "        vertical-align: top;\n",
       "    }\n",
       "\n",
       "    .dataframe thead th {\n",
       "        text-align: right;\n",
       "    }\n",
       "</style>\n",
       "<table border=\"1\" class=\"dataframe\">\n",
       "  <thead>\n",
       "    <tr style=\"text-align: right;\">\n",
       "      <th></th>\n",
       "      <th>commit</th>\n",
       "      <th>author</th>\n",
       "      <th>pass</th>\n",
       "    </tr>\n",
       "  </thead>\n",
       "  <tbody>\n",
       "    <tr>\n",
       "      <th>0</th>\n",
       "      <td>6d7beafb8e79b7a92fed8e67673a33bb7f607dbe</td>\n",
       "      <td>Ada</td>\n",
       "      <td>False</td>\n",
       "    </tr>\n",
       "    <tr>\n",
       "      <th>1</th>\n",
       "      <td>b0df6dbe111f9e28fc3a9c9b841cde5c20c365f9</td>\n",
       "      <td>Linus</td>\n",
       "      <td>True</td>\n",
       "    </tr>\n",
       "    <tr>\n",
       "      <th>2</th>\n",
       "      <td>761627a3ad9ee681f27211326e9149f01764ceee</td>\n",
       "      <td>Linus</td>\n",
       "      <td>True</td>\n",
       "    </tr>\n",
       "    <tr>\n",
       "      <th>3</th>\n",
       "      <td>6f5ca9327e986315ffcacddce5d9d6195c0913b7</td>\n",
       "      <td>Ada</td>\n",
       "      <td>True</td>\n",
       "    </tr>\n",
       "    <tr>\n",
       "      <th>4</th>\n",
       "      <td>f37e610ce055a3d894baac2d9449e6eb77c72320</td>\n",
       "      <td>Steve</td>\n",
       "      <td>True</td>\n",
       "    </tr>\n",
       "    <tr>\n",
       "      <th>5</th>\n",
       "      <td>c10b5a6cb4f06c96f6f221df2d5ec33af767d5c5</td>\n",
       "      <td>Ada</td>\n",
       "      <td>True</td>\n",
       "    </tr>\n",
       "    <tr>\n",
       "      <th>6</th>\n",
       "      <td>f637df3f45bc389e1035cc3aadcf5d81a55f0dc4</td>\n",
       "      <td>Steve</td>\n",
       "      <td>False</td>\n",
       "    </tr>\n",
       "    <tr>\n",
       "      <th>7</th>\n",
       "      <td>4e4128313b8d5b5e5d04f2e8e585f64f7c5831a4</td>\n",
       "      <td>Steve</td>\n",
       "      <td>True</td>\n",
       "    </tr>\n",
       "  </tbody>\n",
       "</table>\n",
       "</div>"
      ],
      "text/plain": [
       "                                     commit author   pass\n",
       "0  6d7beafb8e79b7a92fed8e67673a33bb7f607dbe    Ada  False\n",
       "1  b0df6dbe111f9e28fc3a9c9b841cde5c20c365f9  Linus   True\n",
       "2  761627a3ad9ee681f27211326e9149f01764ceee  Linus   True\n",
       "3  6f5ca9327e986315ffcacddce5d9d6195c0913b7    Ada   True\n",
       "4  f37e610ce055a3d894baac2d9449e6eb77c72320  Steve   True\n",
       "5  c10b5a6cb4f06c96f6f221df2d5ec33af767d5c5    Ada   True\n",
       "6  f637df3f45bc389e1035cc3aadcf5d81a55f0dc4  Steve  False\n",
       "7  4e4128313b8d5b5e5d04f2e8e585f64f7c5831a4  Steve   True"
      ]
     },
     "execution_count": 19,
     "metadata": {},
     "output_type": "execute_result"
    }
   ],
   "source": [
    "#q8 Running test_table on test1\n",
    "test_table(test1, {'X': 1, 'Y': 1, 'Z': 1})"
   ]
  },
  {
   "cell_type": "code",
   "execution_count": 20,
   "metadata": {},
   "outputs": [
    {
     "data": {
      "text/html": [
       "<div>\n",
       "<style scoped>\n",
       "    .dataframe tbody tr th:only-of-type {\n",
       "        vertical-align: middle;\n",
       "    }\n",
       "\n",
       "    .dataframe tbody tr th {\n",
       "        vertical-align: top;\n",
       "    }\n",
       "\n",
       "    .dataframe thead th {\n",
       "        text-align: right;\n",
       "    }\n",
       "</style>\n",
       "<table border=\"1\" class=\"dataframe\">\n",
       "  <thead>\n",
       "    <tr style=\"text-align: right;\">\n",
       "      <th></th>\n",
       "      <th>commit</th>\n",
       "      <th>author</th>\n",
       "      <th>pass</th>\n",
       "    </tr>\n",
       "  </thead>\n",
       "  <tbody>\n",
       "    <tr>\n",
       "      <th>0</th>\n",
       "      <td>6d7beafb8e79b7a92fed8e67673a33bb7f607dbe</td>\n",
       "      <td>Ada</td>\n",
       "      <td>False</td>\n",
       "    </tr>\n",
       "    <tr>\n",
       "      <th>1</th>\n",
       "      <td>b0df6dbe111f9e28fc3a9c9b841cde5c20c365f9</td>\n",
       "      <td>Linus</td>\n",
       "      <td>False</td>\n",
       "    </tr>\n",
       "    <tr>\n",
       "      <th>2</th>\n",
       "      <td>761627a3ad9ee681f27211326e9149f01764ceee</td>\n",
       "      <td>Linus</td>\n",
       "      <td>True</td>\n",
       "    </tr>\n",
       "    <tr>\n",
       "      <th>3</th>\n",
       "      <td>6f5ca9327e986315ffcacddce5d9d6195c0913b7</td>\n",
       "      <td>Ada</td>\n",
       "      <td>True</td>\n",
       "    </tr>\n",
       "    <tr>\n",
       "      <th>4</th>\n",
       "      <td>f37e610ce055a3d894baac2d9449e6eb77c72320</td>\n",
       "      <td>Steve</td>\n",
       "      <td>True</td>\n",
       "    </tr>\n",
       "    <tr>\n",
       "      <th>5</th>\n",
       "      <td>c10b5a6cb4f06c96f6f221df2d5ec33af767d5c5</td>\n",
       "      <td>Ada</td>\n",
       "      <td>True</td>\n",
       "    </tr>\n",
       "    <tr>\n",
       "      <th>6</th>\n",
       "      <td>f637df3f45bc389e1035cc3aadcf5d81a55f0dc4</td>\n",
       "      <td>Steve</td>\n",
       "      <td>False</td>\n",
       "    </tr>\n",
       "    <tr>\n",
       "      <th>7</th>\n",
       "      <td>4e4128313b8d5b5e5d04f2e8e585f64f7c5831a4</td>\n",
       "      <td>Steve</td>\n",
       "      <td>True</td>\n",
       "    </tr>\n",
       "  </tbody>\n",
       "</table>\n",
       "</div>"
      ],
      "text/plain": [
       "                                     commit author   pass\n",
       "0  6d7beafb8e79b7a92fed8e67673a33bb7f607dbe    Ada  False\n",
       "1  b0df6dbe111f9e28fc3a9c9b841cde5c20c365f9  Linus  False\n",
       "2  761627a3ad9ee681f27211326e9149f01764ceee  Linus   True\n",
       "3  6f5ca9327e986315ffcacddce5d9d6195c0913b7    Ada   True\n",
       "4  f37e610ce055a3d894baac2d9449e6eb77c72320  Steve   True\n",
       "5  c10b5a6cb4f06c96f6f221df2d5ec33af767d5c5    Ada   True\n",
       "6  f637df3f45bc389e1035cc3aadcf5d81a55f0dc4  Steve  False\n",
       "7  4e4128313b8d5b5e5d04f2e8e585f64f7c5831a4  Steve   True"
      ]
     },
     "execution_count": 20,
     "metadata": {},
     "output_type": "execute_result"
    }
   ],
   "source": [
    "#q9 Running test_table on test2\n",
    "test_table(test2, {'A': 2, 'B': 1, 'C': 1})"
   ]
  },
  {
   "cell_type": "code",
   "execution_count": 21,
   "metadata": {},
   "outputs": [
    {
     "data": {
      "text/html": [
       "<div>\n",
       "<style scoped>\n",
       "    .dataframe tbody tr th:only-of-type {\n",
       "        vertical-align: middle;\n",
       "    }\n",
       "\n",
       "    .dataframe tbody tr th {\n",
       "        vertical-align: top;\n",
       "    }\n",
       "\n",
       "    .dataframe thead th {\n",
       "        text-align: right;\n",
       "    }\n",
       "</style>\n",
       "<table border=\"1\" class=\"dataframe\">\n",
       "  <thead>\n",
       "    <tr style=\"text-align: right;\">\n",
       "      <th></th>\n",
       "      <th>commit</th>\n",
       "      <th>author</th>\n",
       "      <th>pass</th>\n",
       "    </tr>\n",
       "  </thead>\n",
       "  <tbody>\n",
       "    <tr>\n",
       "      <th>0</th>\n",
       "      <td>6d7beafb8e79b7a92fed8e67673a33bb7f607dbe</td>\n",
       "      <td>Ada</td>\n",
       "      <td>False</td>\n",
       "    </tr>\n",
       "    <tr>\n",
       "      <th>1</th>\n",
       "      <td>b0df6dbe111f9e28fc3a9c9b841cde5c20c365f9</td>\n",
       "      <td>Linus</td>\n",
       "      <td>False</td>\n",
       "    </tr>\n",
       "    <tr>\n",
       "      <th>2</th>\n",
       "      <td>761627a3ad9ee681f27211326e9149f01764ceee</td>\n",
       "      <td>Linus</td>\n",
       "      <td>False</td>\n",
       "    </tr>\n",
       "    <tr>\n",
       "      <th>3</th>\n",
       "      <td>6f5ca9327e986315ffcacddce5d9d6195c0913b7</td>\n",
       "      <td>Ada</td>\n",
       "      <td>True</td>\n",
       "    </tr>\n",
       "    <tr>\n",
       "      <th>4</th>\n",
       "      <td>f37e610ce055a3d894baac2d9449e6eb77c72320</td>\n",
       "      <td>Steve</td>\n",
       "      <td>True</td>\n",
       "    </tr>\n",
       "    <tr>\n",
       "      <th>5</th>\n",
       "      <td>c10b5a6cb4f06c96f6f221df2d5ec33af767d5c5</td>\n",
       "      <td>Ada</td>\n",
       "      <td>True</td>\n",
       "    </tr>\n",
       "    <tr>\n",
       "      <th>6</th>\n",
       "      <td>f637df3f45bc389e1035cc3aadcf5d81a55f0dc4</td>\n",
       "      <td>Steve</td>\n",
       "      <td>False</td>\n",
       "    </tr>\n",
       "    <tr>\n",
       "      <th>7</th>\n",
       "      <td>4e4128313b8d5b5e5d04f2e8e585f64f7c5831a4</td>\n",
       "      <td>Steve</td>\n",
       "      <td>True</td>\n",
       "    </tr>\n",
       "  </tbody>\n",
       "</table>\n",
       "</div>"
      ],
      "text/plain": [
       "                                     commit author   pass\n",
       "0  6d7beafb8e79b7a92fed8e67673a33bb7f607dbe    Ada  False\n",
       "1  b0df6dbe111f9e28fc3a9c9b841cde5c20c365f9  Linus  False\n",
       "2  761627a3ad9ee681f27211326e9149f01764ceee  Linus  False\n",
       "3  6f5ca9327e986315ffcacddce5d9d6195c0913b7    Ada   True\n",
       "4  f37e610ce055a3d894baac2d9449e6eb77c72320  Steve   True\n",
       "5  c10b5a6cb4f06c96f6f221df2d5ec33af767d5c5    Ada   True\n",
       "6  f637df3f45bc389e1035cc3aadcf5d81a55f0dc4  Steve  False\n",
       "7  4e4128313b8d5b5e5d04f2e8e585f64f7c5831a4  Steve   True"
      ]
     },
     "execution_count": 21,
     "metadata": {},
     "output_type": "execute_result"
    }
   ],
   "source": [
    "#q10 Running test_table on test3\n",
    "test_table(test3, {'A': 2, 'B': 1, 'C': 1})"
   ]
  },
  {
   "cell_type": "code",
   "execution_count": 24,
   "metadata": {},
   "outputs": [],
   "source": [
    "#Versions to test performance of wc.py on\n",
    "versions = {\n",
    "    \"v3-single-pass\": \"4e4128313b8d5b5e5d04f2e8e585f64f7c5831a4\",\n",
    "    \"v2-pass-per-uniq\": \"c10b5a6cb4f06c96f6f221df2d5ec33af767d5c5\",\n",
    "    \"v1-open-once\": \"f37e610ce055a3d894baac2d9449e6eb77c72320\",\n",
    "    \"v0-baseline\": \"6f5ca9327e986315ffcacddce5d9d6195c0913b7\",\n",
    "}"
   ]
  },
  {
   "cell_type": "code",
   "execution_count": 25,
   "metadata": {},
   "outputs": [],
   "source": [
    "#Returns the time taken for each version to run wc.py on x randomly sampled words from y total \n",
    "def time_run_sec(uniq_words, total_words, word_size=6, commit=None):\n",
    "    word_list = [] \n",
    "    chars = (\"a\",\"b\",\"c\",\"d\",\"e\",\"f\",\"g\",\"h\",\"i\",\"j\",\"k\",\"l\",\"m\",\"n\",\"o\",\"p\",\"q\",\"r\",\"s\",\"t\",\"u\",\"v\",\"q\",\"r\",\"s\",\"t\",\"u\",\"v\",\"w\",\"x\",\"y\",\"z\")\n",
    "    for i in range(uniq_words):\n",
    "        word = ''.join(random.choices(chars, k = word_size))\n",
    "        if word not in word_list:\n",
    "            word_list.append(word)\n",
    "        else:\n",
    "            word = ''.join(random.choices(chars, k = word_size))\n",
    "            word_list.append(word)\n",
    "    s = \"\"\n",
    "    for j in range(total_words):\n",
    "        new = random.choice(word_list)\n",
    "        s = s + \" \" + f\"{new}\"   \n",
    "        \n",
    "    t0 = time()\n",
    "    run_wc(s, commit)        \n",
    "    t1 = time()\n",
    "    return (t1-t0)"
   ]
  },
  {
   "cell_type": "code",
   "execution_count": 26,
   "metadata": {
    "scrolled": true
   },
   "outputs": [
    {
     "data": {
      "image/png": "[encoded data removed]",
      "text/plain": [
       "<Figure size 288x144 with 1 Axes>"
      ]
     },
     "metadata": {
      "needs_background": "light"
     },
     "output_type": "display_data"
    }
   ],
   "source": [
    "#q11 Running time_run_sec for 100 unique words of 5000 total words\n",
    "df = {}\n",
    "        \n",
    "for version in versions:\n",
    "    df[version] = (time_run_sec(100, 5000, commit = versions[version])) \n",
    "df\n",
    "df = DataFrame(df.values(), index = df.keys())\n",
    "df = df * 1e3\n",
    "ax = df.plot(figsize=(4,2), kind=\"barh\", color = \"0\", legend = False)\n",
    "ax.set_xscale(\"log\")\n",
    "ax.set_xlabel(\"Exec Time (ms)\")\n",
    "ax.spines['right'].set_visible(False)\n",
    "ax.spines['top'].set_visible(False)\n",
    "None"
   ]
  },
  {
   "cell_type": "code",
   "execution_count": 29,
   "metadata": {},
   "outputs": [
    {
     "data": {
      "image/png": "[encoded data removed]",
      "text/plain": [
       "<Figure size 288x144 with 1 Axes>"
      ]
     },
     "metadata": {
      "needs_background": "light"
     },
     "output_type": "display_data"
    }
   ],
   "source": [
    "#q12 Running time_run_sec for 1 unique word of 5000 total words\n",
    "df = {}\n",
    "        \n",
    "for version in versions:\n",
    "    df[version] = (time_run_sec(1, 5000, commit = versions[version])) * 1e3\n",
    "df = df \n",
    "df = DataFrame(df.values(), index = df.keys())\n",
    "ax = df.plot(figsize=(4,2), kind=\"barh\", color = \"0\", legend = False)\n",
    "ax.set_xscale(\"log\")\n",
    "ax.set_xlabel(\"Exec Time (ms)\")\n",
    "ax.spines['right'].set_visible(False)\n",
    "ax.spines['top'].set_visible(False)\n",
    "\n",
    "None"
   ]
  },
  {
   "cell_type": "code",
   "execution_count": 30,
   "metadata": {},
   "outputs": [],
   "source": [
    "#Creating a DF with total words and percent unique for two commits\n",
    "df = DataFrame()\n",
    "\n",
    "x = time_run_sec(100, 1000, commit = \"c10b5a6cb4f06c96f6f221df2d5ec33af767d5c5\") \n",
    "y = time_run_sec(50, 1000, commit = \"c10b5a6cb4f06c96f6f221df2d5ec33af767d5c5\")\n",
    "z = time_run_sec(10, 1000, commit = \"c10b5a6cb4f06c96f6f221df2d5ec33af767d5c5\")\n",
    "df.loc[1000, \"10\"] = x\n",
    "df.loc[1000, \"5\"] = y\n",
    "df.loc[1000, \"1\"] = z\n",
    "\n",
    "x = time_run_sec(200, 2000, commit = \"c10b5a6cb4f06c96f6f221df2d5ec33af767d5c5\") \n",
    "y = time_run_sec(100, 2000, commit = \"c10b5a6cb4f06c96f6f221df2d5ec33af767d5c5\")\n",
    "z = time_run_sec(20, 2000, commit = \"c10b5a6cb4f06c96f6f221df2d5ec33af767d5c5\")\n",
    "df.loc[2000, \"10\"] = x\n",
    "df.loc[2000, \"5\"] = y\n",
    "df.loc[2000, \"1\"] = z\n",
    "\n",
    "x = time_run_sec(500, 5000, commit = \"c10b5a6cb4f06c96f6f221df2d5ec33af767d5c5\") \n",
    "y = time_run_sec(250, 5000, commit = \"c10b5a6cb4f06c96f6f221df2d5ec33af767d5c5\")\n",
    "z = time_run_sec(50, 5000, commit = \"c10b5a6cb4f06c96f6f221df2d5ec33af767d5c5\")\n",
    "df.loc[5000, \"10\"] = x\n",
    "df.loc[5000, \"5\"] = y\n",
    "df.loc[5000, \"1\"] = z\n",
    "\n",
    "x = time_run_sec(1000, 10000, commit = \"c10b5a6cb4f06c96f6f221df2d5ec33af767d5c5\") \n",
    "y = time_run_sec(500, 10000, commit = \"c10b5a6cb4f06c96f6f221df2d5ec33af767d5c5\")\n",
    "z = time_run_sec(100, 10000, commit = \"c10b5a6cb4f06c96f6f221df2d5ec33af767d5c5\")\n",
    "df.loc[10000, \"10\"] = x\n",
    "df.loc[10000, \"5\"] = y\n",
    "df.loc[10000, \"1\"] = z"
   ]
  },
  {
   "cell_type": "code",
   "execution_count": 33,
   "metadata": {},
   "outputs": [],
   "source": [
    "\n",
    "df2 = DataFrame()\n",
    "\n",
    "x = time_run_sec(100, 1000, commit = \"4e4128313b8d5b5e5d04f2e8e585f64f7c5831a4\") \n",
    "y = time_run_sec(50, 1000, commit = \"4e4128313b8d5b5e5d04f2e8e585f64f7c5831a4\")\n",
    "z = time_run_sec(10, 1000, commit = \"4e4128313b8d5b5e5d04f2e8e585f64f7c5831a4\")\n",
    "df2.loc[1000, \"10\"] = x\n",
    "df2.loc[1000, \"5\"] = y\n",
    "df2.loc[1000, \"1\"] = z\n",
    "\n",
    "x = time_run_sec(200, 2000, commit = \"4e4128313b8d5b5e5d04f2e8e585f64f7c5831a4\") \n",
    "y = time_run_sec(100, 2000, commit = \"4e4128313b8d5b5e5d04f2e8e585f64f7c5831a4\")\n",
    "z = time_run_sec(20, 2000, commit = \"4e4128313b8d5b5e5d04f2e8e585f64f7c5831a4\")\n",
    "df2.loc[2000, \"10\"] = x\n",
    "df2.loc[2000, \"5\"] = y\n",
    "df2.loc[2000, \"1\"] = z\n",
    "\n",
    "x = time_run_sec(500, 5000, commit = \"4e4128313b8d5b5e5d04f2e8e585f64f7c5831a4\") \n",
    "y = time_run_sec(250, 5000, commit = \"4e4128313b8d5b5e5d04f2e8e585f64f7c5831a4\")\n",
    "z = time_run_sec(50, 5000, commit = \"4e4128313b8d5b5e5d04f2e8e585f64f7c5831a4\")\n",
    "df2.loc[5000, \"10\"] = x\n",
    "df2.loc[5000, \"5\"] = y\n",
    "df2.loc[5000, \"1\"] = z\n",
    "\n",
    "x = time_run_sec(1000, 10000, commit = \"4e4128313b8d5b5e5d04f2e8e585f64f7c5831a4\") \n",
    "y = time_run_sec(500, 10000, commit = \"4e4128313b8d5b5e5d04f2e8e585f64f7c5831a4\")\n",
    "z = time_run_sec(100, 10000, commit = \"4e4128313b8d5b5e5d04f2e8e585f64f7c5831a4\")\n",
    "df2.loc[10000, \"10\"] = x\n",
    "df2.loc[10000, \"5\"] = y\n",
    "df2.loc[10000, \"1\"] = z\n",
    "\n",
    "df2 = df2.rename_axis(\"percent unique\", axis =\"columns\")\n",
    "df2 = df2.rename_axis(\"total words\", axis =\"rows\")\n"
   ]
  },
  {
   "cell_type": "code",
   "execution_count": 35,
   "metadata": {},
   "outputs": [
    {
     "data": {
      "text/html": [
       "<div>\n",
       "<style scoped>\n",
       "    .dataframe tbody tr th:only-of-type {\n",
       "        vertical-align: middle;\n",
       "    }\n",
       "\n",
       "    .dataframe tbody tr th {\n",
       "        vertical-align: top;\n",
       "    }\n",
       "\n",
       "    .dataframe thead th {\n",
       "        text-align: right;\n",
       "    }\n",
       "</style>\n",
       "<table border=\"1\" class=\"dataframe\">\n",
       "  <thead>\n",
       "    <tr style=\"text-align: right;\">\n",
       "      <th>percent unique</th>\n",
       "      <th>10</th>\n",
       "      <th>5</th>\n",
       "      <th>1</th>\n",
       "    </tr>\n",
       "    <tr>\n",
       "      <th>total words</th>\n",
       "      <th></th>\n",
       "      <th></th>\n",
       "      <th></th>\n",
       "    </tr>\n",
       "  </thead>\n",
       "  <tbody>\n",
       "    <tr>\n",
       "      <th>1000</th>\n",
       "      <td>0.063393</td>\n",
       "      <td>0.059211</td>\n",
       "      <td>0.056919</td>\n",
       "    </tr>\n",
       "    <tr>\n",
       "      <th>2000</th>\n",
       "      <td>0.057963</td>\n",
       "      <td>0.057717</td>\n",
       "      <td>0.059164</td>\n",
       "    </tr>\n",
       "    <tr>\n",
       "      <th>5000</th>\n",
       "      <td>0.062598</td>\n",
       "      <td>0.060713</td>\n",
       "      <td>0.061307</td>\n",
       "    </tr>\n",
       "    <tr>\n",
       "      <th>10000</th>\n",
       "      <td>0.066648</td>\n",
       "      <td>0.066998</td>\n",
       "      <td>0.064483</td>\n",
       "    </tr>\n",
       "  </tbody>\n",
       "</table>\n",
       "</div>"
      ],
      "text/plain": [
       "percent unique        10         5         1\n",
       "total words                                 \n",
       "1000            0.063393  0.059211  0.056919\n",
       "2000            0.057963  0.057717  0.059164\n",
       "5000            0.062598  0.060713  0.061307\n",
       "10000           0.066648  0.066998  0.064483"
      ]
     },
     "execution_count": 35,
     "metadata": {},
     "output_type": "execute_result"
    }
   ],
   "source": [
    "df2"
   ]
  },
  {
   "cell_type": "code",
   "execution_count": 32,
   "metadata": {},
   "outputs": [
    {
     "data": {
      "image/png": "[encoded data removed]",
      "text/plain": [
       "<Figure size 1080x288 with 2 Axes>"
      ]
     },
     "metadata": {
      "needs_background": "light"
     },
     "output_type": "display_data"
    }
   ],
   "source": [
    "#q13\n",
    "t = plt.subplots(ncols=2, figsize = (15,4), sharey=True)\n",
    "ax_list = list(t[1])\n",
    "\n",
    "df = df \n",
    "df2 = df2\n",
    "ax = df.plot.line(ax=ax_list[0], legend=False)\n",
    "ax.set_ylim(0,.4)\n",
    "ax.set_xlabel(\"total words\")\n",
    "ax.set_ylabel(\"Time (s)\")\n",
    "ax.set_title(\"version 2\")\n",
    "ax = df2.plot.line(ax=ax_list[1])\n",
    "ax.set_ylim(0,.4)\n",
    "ax.set_xlabel(\"total words\")\n",
    "ax.set_title(\"version 3\")\n",
    "\n",
    "plt.subplots_adjust(wspace=.5)\n"
   ]
  }
 ],
 "metadata": {
  "kernelspec": {
   "display_name": "Python 3",
   "language": "python",
   "name": "python3"
  },
  "language_info": {
   "codemirror_mode": {
    "name": "ipython",
    "version": 3
   },
   "file_extension": ".py",
   "mimetype": "text/x-python",
   "name": "python",
   "nbconvert_exporter": "python",
   "pygments_lexer": "ipython3",
   "version": "3.6.9"
  }
 },
 "nbformat": 4,
 "nbformat_minor": 4
}
